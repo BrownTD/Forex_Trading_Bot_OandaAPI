{
 "cells": [
  {
   "cell_type": "code",
   "execution_count": 15,
   "id": "ab18249b-f61d-42bc-9732-3ee8c170ae0e",
   "metadata": {},
   "outputs": [],
   "source": [
    "import requests\n",
    "import defs\n",
    "import pandas as pd"
   ]
  },
  {
   "cell_type": "code",
   "execution_count": 2,
   "id": "295967b2-43d1-4336-96b9-976e4494a8d2",
   "metadata": {},
   "outputs": [],
   "source": [
    "#creating session for requests to load server faster\n",
    "session = requests.Session()"
   ]
  },
  {
   "cell_type": "code",
   "execution_count": 3,
   "id": "bb7cce3e-34db-49bd-8e37-f1c8bb4e6e98",
   "metadata": {},
   "outputs": [
    {
     "data": {
      "text/plain": [
       "'https://api-fxtrade.oanda.com/v3/accounts/001-001-8809011-001/instruments'"
      ]
     },
     "execution_count": 3,
     "metadata": {},
     "output_type": "execute_result"
    }
   ],
   "source": [
    "url = f\"{defs.OANDA_URL}/accounts/{defs.ACCOUNT_ID}/instruments\"\n",
    "url"
   ]
  },
  {
   "cell_type": "code",
   "execution_count": 4,
   "id": "dc4a2e1c-d2eb-44a4-b350-965a272a8319",
   "metadata": {},
   "outputs": [
    {
     "data": {
      "text/plain": [
       "200"
      ]
     },
     "execution_count": 4,
     "metadata": {},
     "output_type": "execute_result"
    }
   ],
   "source": [
    "response = session.get(url, params=None, headers=defs.SECURE_HEADER)\n",
    "response.status_code"
   ]
  },
  {
   "cell_type": "code",
   "execution_count": 6,
   "id": "31711642-a4c2-45d2-8c9c-49c1e22993cb",
   "metadata": {},
   "outputs": [],
   "source": [
    "data = response.json()"
   ]
  },
  {
   "cell_type": "code",
   "execution_count": 7,
   "id": "54ee3d72-6adf-49aa-b360-b42eda84571f",
   "metadata": {},
   "outputs": [
    {
     "data": {
      "text/plain": [
       "dict_keys(['instruments', 'lastTransactionID'])"
      ]
     },
     "execution_count": 7,
     "metadata": {},
     "output_type": "execute_result"
    }
   ],
   "source": [
    "data.keys()"
   ]
  },
  {
   "cell_type": "code",
   "execution_count": 8,
   "id": "23670412-6a2c-45b6-befe-d9be33079edb",
   "metadata": {},
   "outputs": [],
   "source": [
    "instruments = data['instruments']"
   ]
  },
  {
   "cell_type": "code",
   "execution_count": 11,
   "id": "85219094-8426-4200-88a5-079c961c465b",
   "metadata": {},
   "outputs": [
    {
     "data": {
      "text/plain": [
       "68"
      ]
     },
     "execution_count": 11,
     "metadata": {},
     "output_type": "execute_result"
    }
   ],
   "source": [
    "len(instruments)"
   ]
  },
  {
   "cell_type": "code",
   "execution_count": 12,
   "id": "432a852e-c642-42d3-ac1e-9ea1d5aae0b7",
   "metadata": {},
   "outputs": [
    {
     "data": {
      "text/plain": [
       "dict_keys(['name', 'type', 'displayName', 'pipLocation', 'displayPrecision', 'tradeUnitsPrecision', 'minimumTradeSize', 'maximumTrailingStopDistance', 'minimumTrailingStopDistance', 'maximumPositionSize', 'maximumOrderUnits', 'marginRate', 'guaranteedStopLossOrderMode', 'tags', 'financing'])"
      ]
     },
     "execution_count": 12,
     "metadata": {},
     "output_type": "execute_result"
    }
   ],
   "source": [
    "instruments[0].keys()"
   ]
  },
  {
   "cell_type": "code",
   "execution_count": 35,
   "id": "4d8f0ca6-0257-49e7-ae75-7fb6f8cf6197",
   "metadata": {},
   "outputs": [],
   "source": [
    "instrument_data = []\n",
    "for item in instruments:\n",
    "    new_ob = dict(\n",
    "        name = item['name'],\n",
    "        type = item['type'],\n",
    "        displayName = item['displayName'],\n",
    "        pipLocation = item['pipLocation'],\n",
    "        marginRate = item['marginRate']\n",
    "    )\n",
    "    instrument_data.append(new_ob)"
   ]
  },
  {
   "cell_type": "code",
   "execution_count": 36,
   "id": "5d8ed73c-4b80-4417-81a7-4b334874621c",
   "metadata": {},
   "outputs": [
    {
     "name": "stdout",
     "output_type": "stream",
     "text": [
      "{'name': 'CAD_JPY', 'type': 'CURRENCY', 'displayName': 'CAD/JPY', 'pipLocation': -2, 'marginRate': '0.02'}\n",
      "{'name': 'EUR_HUF', 'type': 'CURRENCY', 'displayName': 'EUR/HUF', 'pipLocation': -2, 'marginRate': '0.05'}\n",
      "{'name': 'AUD_NZD', 'type': 'CURRENCY', 'displayName': 'AUD/NZD', 'pipLocation': -4, 'marginRate': '0.03'}\n",
      "{'name': 'USD_CHF', 'type': 'CURRENCY', 'displayName': 'USD/CHF', 'pipLocation': -4, 'marginRate': '0.04'}\n",
      "{'name': 'CAD_SGD', 'type': 'CURRENCY', 'displayName': 'CAD/SGD', 'pipLocation': -4, 'marginRate': '0.05'}\n",
      "{'name': 'EUR_TRY', 'type': 'CURRENCY', 'displayName': 'EUR/TRY', 'pipLocation': -4, 'marginRate': '0.25'}\n",
      "{'name': 'USD_JPY', 'type': 'CURRENCY', 'displayName': 'USD/JPY', 'pipLocation': -2, 'marginRate': '0.02'}\n",
      "{'name': 'EUR_HKD', 'type': 'CURRENCY', 'displayName': 'EUR/HKD', 'pipLocation': -4, 'marginRate': '0.1'}\n",
      "{'name': 'GBP_HKD', 'type': 'CURRENCY', 'displayName': 'GBP/HKD', 'pipLocation': -4, 'marginRate': '0.1'}\n",
      "{'name': 'GBP_NZD', 'type': 'CURRENCY', 'displayName': 'GBP/NZD', 'pipLocation': -4, 'marginRate': '0.03'}\n"
     ]
    }
   ],
   "source": [
    "for item in instrument_data[5:15]:\n",
    "    print(item)"
   ]
  },
  {
   "cell_type": "code",
   "execution_count": 37,
   "id": "b52df35b-96ec-4e3f-942f-1af71e5ff9f2",
   "metadata": {},
   "outputs": [],
   "source": [
    "instrument_df = pd.DataFrame(instrument_data)"
   ]
  },
  {
   "cell_type": "code",
   "execution_count": 38,
   "id": "aa8e760a-bdb5-4de7-9a15-5aeef583682c",
   "metadata": {},
   "outputs": [
    {
     "data": {
      "text/html": [
       "<div>\n",
       "<style scoped>\n",
       "    .dataframe tbody tr th:only-of-type {\n",
       "        vertical-align: middle;\n",
       "    }\n",
       "\n",
       "    .dataframe tbody tr th {\n",
       "        vertical-align: top;\n",
       "    }\n",
       "\n",
       "    .dataframe thead th {\n",
       "        text-align: right;\n",
       "    }\n",
       "</style>\n",
       "<table border=\"1\" class=\"dataframe\">\n",
       "  <thead>\n",
       "    <tr style=\"text-align: right;\">\n",
       "      <th></th>\n",
       "      <th>name</th>\n",
       "      <th>type</th>\n",
       "      <th>displayName</th>\n",
       "      <th>pipLocation</th>\n",
       "      <th>marginRate</th>\n",
       "    </tr>\n",
       "  </thead>\n",
       "  <tbody>\n",
       "    <tr>\n",
       "      <th>0</th>\n",
       "      <td>USD_HUF</td>\n",
       "      <td>CURRENCY</td>\n",
       "      <td>USD/HUF</td>\n",
       "      <td>-2</td>\n",
       "      <td>0.05</td>\n",
       "    </tr>\n",
       "    <tr>\n",
       "      <th>1</th>\n",
       "      <td>NZD_SGD</td>\n",
       "      <td>CURRENCY</td>\n",
       "      <td>NZD/SGD</td>\n",
       "      <td>-4</td>\n",
       "      <td>0.05</td>\n",
       "    </tr>\n",
       "    <tr>\n",
       "      <th>2</th>\n",
       "      <td>GBP_ZAR</td>\n",
       "      <td>CURRENCY</td>\n",
       "      <td>GBP/ZAR</td>\n",
       "      <td>-4</td>\n",
       "      <td>0.07</td>\n",
       "    </tr>\n",
       "    <tr>\n",
       "      <th>3</th>\n",
       "      <td>AUD_USD</td>\n",
       "      <td>CURRENCY</td>\n",
       "      <td>AUD/USD</td>\n",
       "      <td>-4</td>\n",
       "      <td>0.03</td>\n",
       "    </tr>\n",
       "    <tr>\n",
       "      <th>4</th>\n",
       "      <td>USD_ZAR</td>\n",
       "      <td>CURRENCY</td>\n",
       "      <td>USD/ZAR</td>\n",
       "      <td>-4</td>\n",
       "      <td>0.07</td>\n",
       "    </tr>\n",
       "    <tr>\n",
       "      <th>...</th>\n",
       "      <td>...</td>\n",
       "      <td>...</td>\n",
       "      <td>...</td>\n",
       "      <td>...</td>\n",
       "      <td>...</td>\n",
       "    </tr>\n",
       "    <tr>\n",
       "      <th>63</th>\n",
       "      <td>EUR_AUD</td>\n",
       "      <td>CURRENCY</td>\n",
       "      <td>EUR/AUD</td>\n",
       "      <td>-4</td>\n",
       "      <td>0.03</td>\n",
       "    </tr>\n",
       "    <tr>\n",
       "      <th>64</th>\n",
       "      <td>TRY_JPY</td>\n",
       "      <td>CURRENCY</td>\n",
       "      <td>TRY/JPY</td>\n",
       "      <td>-2</td>\n",
       "      <td>0.25</td>\n",
       "    </tr>\n",
       "    <tr>\n",
       "      <th>65</th>\n",
       "      <td>USD_SGD</td>\n",
       "      <td>CURRENCY</td>\n",
       "      <td>USD/SGD</td>\n",
       "      <td>-4</td>\n",
       "      <td>0.05</td>\n",
       "    </tr>\n",
       "    <tr>\n",
       "      <th>66</th>\n",
       "      <td>EUR_SEK</td>\n",
       "      <td>CURRENCY</td>\n",
       "      <td>EUR/SEK</td>\n",
       "      <td>-4</td>\n",
       "      <td>0.03</td>\n",
       "    </tr>\n",
       "    <tr>\n",
       "      <th>67</th>\n",
       "      <td>SGD_JPY</td>\n",
       "      <td>CURRENCY</td>\n",
       "      <td>SGD/JPY</td>\n",
       "      <td>-2</td>\n",
       "      <td>0.05</td>\n",
       "    </tr>\n",
       "  </tbody>\n",
       "</table>\n",
       "<p>68 rows × 5 columns</p>\n",
       "</div>"
      ],
      "text/plain": [
       "       name      type displayName  pipLocation marginRate\n",
       "0   USD_HUF  CURRENCY     USD/HUF           -2       0.05\n",
       "1   NZD_SGD  CURRENCY     NZD/SGD           -4       0.05\n",
       "2   GBP_ZAR  CURRENCY     GBP/ZAR           -4       0.07\n",
       "3   AUD_USD  CURRENCY     AUD/USD           -4       0.03\n",
       "4   USD_ZAR  CURRENCY     USD/ZAR           -4       0.07\n",
       "..      ...       ...         ...          ...        ...\n",
       "63  EUR_AUD  CURRENCY     EUR/AUD           -4       0.03\n",
       "64  TRY_JPY  CURRENCY     TRY/JPY           -2       0.25\n",
       "65  USD_SGD  CURRENCY     USD/SGD           -4       0.05\n",
       "66  EUR_SEK  CURRENCY     EUR/SEK           -4       0.03\n",
       "67  SGD_JPY  CURRENCY     SGD/JPY           -2       0.05\n",
       "\n",
       "[68 rows x 5 columns]"
      ]
     },
     "execution_count": 38,
     "metadata": {},
     "output_type": "execute_result"
    }
   ],
   "source": [
    "instrument_df"
   ]
  },
  {
   "cell_type": "code",
   "execution_count": 39,
   "id": "ed6423ec-e6b3-4aff-84f6-385d7137fa83",
   "metadata": {},
   "outputs": [],
   "source": [
    "instrument_df.to_pickle('instruments.pkl')"
   ]
  },
  {
   "cell_type": "code",
   "execution_count": null,
   "id": "dbfad96b-e926-4ed9-8156-eab514007c98",
   "metadata": {},
   "outputs": [],
   "source": []
  }
 ],
 "metadata": {
  "kernelspec": {
   "display_name": "forex",
   "language": "python",
   "name": "forex"
  },
  "language_info": {
   "codemirror_mode": {
    "name": "ipython",
    "version": 3
   },
   "file_extension": ".py",
   "mimetype": "text/x-python",
   "name": "python",
   "nbconvert_exporter": "python",
   "pygments_lexer": "ipython3",
   "version": "3.10.4"
  }
 },
 "nbformat": 4,
 "nbformat_minor": 5
}
