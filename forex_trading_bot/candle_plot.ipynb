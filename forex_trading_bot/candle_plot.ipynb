{
 "cells": [
  {
   "cell_type": "code",
   "execution_count": 235,
   "id": "cb2a0835-54f5-4425-b271-9d5458dbeded",
   "metadata": {},
   "outputs": [],
   "source": [
    "import pandas as pd\n",
    "import utils\n",
    "import instrument\n",
    "import plotly.graph_objects as go\n",
    "import plotly.io as pio\n",
    "pio.renderers.default = 'iframe'"
   ]
  },
  {
   "cell_type": "code",
   "execution_count": 245,
   "id": "2b323c8b-d48e-466e-b8a0-f81eff75edd0",
   "metadata": {},
   "outputs": [],
   "source": [
    "pair = 'CAD_CHF'\n",
    "granularity = 'H1'\n",
    "ma_list = [16,64]\n",
    "i_pair = instrument.Instrument.get_instrument_by_name(pair)"
   ]
  },
  {
   "cell_type": "code",
   "execution_count": 246,
   "id": "24d1b8b1-9093-49a6-8056-bfa6a014f834",
   "metadata": {},
   "outputs": [],
   "source": [
    "df = pd.read_pickle(utils.get_his_data_filename(pair, granularity))\n",
    "non_cols = ['time', 'volume']\n",
    "mod_cols = [x for x in df.columns if x not in non_cols]\n",
    "df[mod_cols] = df[mod_cols].apply(pd.to_numeric)"
   ]
  },
  {
   "cell_type": "code",
   "execution_count": 247,
   "id": "00350f94-27cb-47f4-bedb-f3b5f834b8c8",
   "metadata": {},
   "outputs": [],
   "source": [
    "#calculating and plotting moving average\n",
    "df_ma = df[['time','mid_o', 'mid_h', 'mid_l', 'mid_c']].copy()\n",
    "for ma in ma_list:\n",
    "    df_ma[f'MA_{ma}'] = df_ma.mid_c.rolling(window=ma).mean()\n",
    "df_ma.dropna(inplace=True)\n",
    "df_ma.reset_index(drop=True, inplace=True)"
   ]
  },
  {
   "cell_type": "code",
   "execution_count": 248,
   "id": "c90d9613-1a4b-4e2d-ba60-b07349cb9e6f",
   "metadata": {},
   "outputs": [
    {
     "data": {
      "text/html": [
       "<div>\n",
       "<style scoped>\n",
       "    .dataframe tbody tr th:only-of-type {\n",
       "        vertical-align: middle;\n",
       "    }\n",
       "\n",
       "    .dataframe tbody tr th {\n",
       "        vertical-align: top;\n",
       "    }\n",
       "\n",
       "    .dataframe thead th {\n",
       "        text-align: right;\n",
       "    }\n",
       "</style>\n",
       "<table border=\"1\" class=\"dataframe\">\n",
       "  <thead>\n",
       "    <tr style=\"text-align: right;\">\n",
       "      <th></th>\n",
       "      <th>time</th>\n",
       "      <th>mid_o</th>\n",
       "      <th>mid_h</th>\n",
       "      <th>mid_l</th>\n",
       "      <th>mid_c</th>\n",
       "      <th>MA_16</th>\n",
       "      <th>MA_64</th>\n",
       "    </tr>\n",
       "  </thead>\n",
       "  <tbody>\n",
       "    <tr>\n",
       "      <th>0</th>\n",
       "      <td>2022-04-28T20:00:00.000000000Z</td>\n",
       "      <td>0.75904</td>\n",
       "      <td>0.75919</td>\n",
       "      <td>0.75870</td>\n",
       "      <td>0.75891</td>\n",
       "      <td>0.757534</td>\n",
       "      <td>0.754293</td>\n",
       "    </tr>\n",
       "    <tr>\n",
       "      <th>1</th>\n",
       "      <td>2022-04-28T21:00:00.000000000Z</td>\n",
       "      <td>0.75886</td>\n",
       "      <td>0.75915</td>\n",
       "      <td>0.75862</td>\n",
       "      <td>0.75898</td>\n",
       "      <td>0.757769</td>\n",
       "      <td>0.754357</td>\n",
       "    </tr>\n",
       "    <tr>\n",
       "      <th>2</th>\n",
       "      <td>2022-04-28T22:00:00.000000000Z</td>\n",
       "      <td>0.75898</td>\n",
       "      <td>0.75908</td>\n",
       "      <td>0.75863</td>\n",
       "      <td>0.75896</td>\n",
       "      <td>0.757869</td>\n",
       "      <td>0.754430</td>\n",
       "    </tr>\n",
       "    <tr>\n",
       "      <th>3</th>\n",
       "      <td>2022-04-28T23:00:00.000000000Z</td>\n",
       "      <td>0.75900</td>\n",
       "      <td>0.75918</td>\n",
       "      <td>0.75872</td>\n",
       "      <td>0.75894</td>\n",
       "      <td>0.758030</td>\n",
       "      <td>0.754526</td>\n",
       "    </tr>\n",
       "    <tr>\n",
       "      <th>4</th>\n",
       "      <td>2022-04-29T00:00:00.000000000Z</td>\n",
       "      <td>0.75894</td>\n",
       "      <td>0.75970</td>\n",
       "      <td>0.75868</td>\n",
       "      <td>0.75970</td>\n",
       "      <td>0.758145</td>\n",
       "      <td>0.754623</td>\n",
       "    </tr>\n",
       "    <tr>\n",
       "      <th>5</th>\n",
       "      <td>2022-04-29T01:00:00.000000000Z</td>\n",
       "      <td>0.75966</td>\n",
       "      <td>0.76032</td>\n",
       "      <td>0.75956</td>\n",
       "      <td>0.75964</td>\n",
       "      <td>0.758308</td>\n",
       "      <td>0.754738</td>\n",
       "    </tr>\n",
       "    <tr>\n",
       "      <th>6</th>\n",
       "      <td>2022-04-29T02:00:00.000000000Z</td>\n",
       "      <td>0.75964</td>\n",
       "      <td>0.76013</td>\n",
       "      <td>0.75955</td>\n",
       "      <td>0.76013</td>\n",
       "      <td>0.758546</td>\n",
       "      <td>0.754863</td>\n",
       "    </tr>\n",
       "    <tr>\n",
       "      <th>7</th>\n",
       "      <td>2022-04-29T03:00:00.000000000Z</td>\n",
       "      <td>0.76010</td>\n",
       "      <td>0.76045</td>\n",
       "      <td>0.76002</td>\n",
       "      <td>0.76022</td>\n",
       "      <td>0.758796</td>\n",
       "      <td>0.754996</td>\n",
       "    </tr>\n",
       "    <tr>\n",
       "      <th>8</th>\n",
       "      <td>2022-04-29T04:00:00.000000000Z</td>\n",
       "      <td>0.76022</td>\n",
       "      <td>0.76110</td>\n",
       "      <td>0.76016</td>\n",
       "      <td>0.76098</td>\n",
       "      <td>0.758963</td>\n",
       "      <td>0.755182</td>\n",
       "    </tr>\n",
       "    <tr>\n",
       "      <th>9</th>\n",
       "      <td>2022-04-29T05:00:00.000000000Z</td>\n",
       "      <td>0.76098</td>\n",
       "      <td>0.76128</td>\n",
       "      <td>0.76053</td>\n",
       "      <td>0.76120</td>\n",
       "      <td>0.759247</td>\n",
       "      <td>0.755394</td>\n",
       "    </tr>\n",
       "  </tbody>\n",
       "</table>\n",
       "</div>"
      ],
      "text/plain": [
       "                             time    mid_o    mid_h    mid_l    mid_c  \\\n",
       "0  2022-04-28T20:00:00.000000000Z  0.75904  0.75919  0.75870  0.75891   \n",
       "1  2022-04-28T21:00:00.000000000Z  0.75886  0.75915  0.75862  0.75898   \n",
       "2  2022-04-28T22:00:00.000000000Z  0.75898  0.75908  0.75863  0.75896   \n",
       "3  2022-04-28T23:00:00.000000000Z  0.75900  0.75918  0.75872  0.75894   \n",
       "4  2022-04-29T00:00:00.000000000Z  0.75894  0.75970  0.75868  0.75970   \n",
       "5  2022-04-29T01:00:00.000000000Z  0.75966  0.76032  0.75956  0.75964   \n",
       "6  2022-04-29T02:00:00.000000000Z  0.75964  0.76013  0.75955  0.76013   \n",
       "7  2022-04-29T03:00:00.000000000Z  0.76010  0.76045  0.76002  0.76022   \n",
       "8  2022-04-29T04:00:00.000000000Z  0.76022  0.76110  0.76016  0.76098   \n",
       "9  2022-04-29T05:00:00.000000000Z  0.76098  0.76128  0.76053  0.76120   \n",
       "\n",
       "      MA_16     MA_64  \n",
       "0  0.757534  0.754293  \n",
       "1  0.757769  0.754357  \n",
       "2  0.757869  0.754430  \n",
       "3  0.758030  0.754526  \n",
       "4  0.758145  0.754623  \n",
       "5  0.758308  0.754738  \n",
       "6  0.758546  0.754863  \n",
       "7  0.758796  0.754996  \n",
       "8  0.758963  0.755182  \n",
       "9  0.759247  0.755394  "
      ]
     },
     "execution_count": 248,
     "metadata": {},
     "output_type": "execute_result"
    }
   ],
   "source": [
    "df_ma.head(10)"
   ]
  },
  {
   "cell_type": "code",
   "execution_count": 249,
   "id": "37e7a920-489b-42b8-8f6f-1abcb97d0a36",
   "metadata": {},
   "outputs": [],
   "source": [
    "#Identifying Moving Average using Cross Strategy\n",
    "#Buy = 1\n",
    "#Sell = -1\n",
    "#Negative DELTA Value = GAIN\n",
    "#Positive DELTA Value = LOSS"
   ]
  },
  {
   "cell_type": "code",
   "execution_count": 250,
   "id": "5562fa23-3b1f-4587-ab8f-dcc2302a6aee",
   "metadata": {},
   "outputs": [],
   "source": [
    "def is_trade(row):\n",
    "    if row.DIFF >= 0 and row.DIFF_PREV < 0:\n",
    "        return 1\n",
    "    if row.DIFF <= 0 and row.DIFF_PREV > 0:\n",
    "        return -1\n",
    "    return 0"
   ]
  },
  {
   "cell_type": "code",
   "execution_count": 251,
   "id": "b22325ed-7652-4ea2-91bf-178f7facb0f5",
   "metadata": {},
   "outputs": [],
   "source": [
    "df_ma['DIFF'] = df_ma.MA_16 - df_ma.MA_64\n",
    "df_ma['DIFF_PREV'] = df_ma.DIFF.shift(1)\n",
    "df_ma['IS_TRADE'] = df_ma.apply(is_trade, axis=1)\n",
    "df_trades = df_ma[df_ma.IS_TRADE!=0].copy()"
   ]
  },
  {
   "cell_type": "code",
   "execution_count": 252,
   "id": "0e1a575e-f3e3-43ca-b80d-f64e0a4c2362",
   "metadata": {},
   "outputs": [],
   "source": [
    "df_trades['DELTA'] = (df_trades.mid_c.diff() / i_pair.pipLocation).shift(-1)\n",
    "df_trades['GAIN'] = df_trades['DELTA'] * df_trades['IS_TRADE']"
   ]
  },
  {
   "cell_type": "code",
   "execution_count": 253,
   "id": "42c7a7ca-c5c3-448a-ade3-832c71ce6065",
   "metadata": {},
   "outputs": [
    {
     "data": {
      "text/plain": [
       "-121.20000000000468"
      ]
     },
     "execution_count": 253,
     "metadata": {},
     "output_type": "execute_result"
    }
   ],
   "source": [
    "df_trades['GAIN'].sum()"
   ]
  },
  {
   "cell_type": "code",
   "execution_count": 254,
   "id": "ed4c89f6-ad3b-443a-96aa-2e6a3ca490a4",
   "metadata": {},
   "outputs": [
    {
     "data": {
      "text/html": [
       "<div>\n",
       "<style scoped>\n",
       "    .dataframe tbody tr th:only-of-type {\n",
       "        vertical-align: middle;\n",
       "    }\n",
       "\n",
       "    .dataframe tbody tr th {\n",
       "        vertical-align: top;\n",
       "    }\n",
       "\n",
       "    .dataframe thead th {\n",
       "        text-align: right;\n",
       "    }\n",
       "</style>\n",
       "<table border=\"1\" class=\"dataframe\">\n",
       "  <thead>\n",
       "    <tr style=\"text-align: right;\">\n",
       "      <th></th>\n",
       "      <th>time</th>\n",
       "      <th>mid_o</th>\n",
       "      <th>mid_h</th>\n",
       "      <th>mid_l</th>\n",
       "      <th>mid_c</th>\n",
       "      <th>MA_16</th>\n",
       "      <th>MA_64</th>\n",
       "      <th>DIFF</th>\n",
       "      <th>DIFF_PREV</th>\n",
       "      <th>IS_TRADE</th>\n",
       "      <th>DELTA</th>\n",
       "      <th>GAIN</th>\n",
       "    </tr>\n",
       "  </thead>\n",
       "  <tbody>\n",
       "    <tr>\n",
       "      <th>32</th>\n",
       "      <td>2022-05-02T04:00:00.000000000Z</td>\n",
       "      <td>0.75734</td>\n",
       "      <td>0.75778</td>\n",
       "      <td>0.75698</td>\n",
       "      <td>0.75774</td>\n",
       "      <td>0.757949</td>\n",
       "      <td>0.757992</td>\n",
       "      <td>-0.000042</td>\n",
       "      <td>0.000422</td>\n",
       "      <td>-1</td>\n",
       "      <td>29.6</td>\n",
       "      <td>-29.6</td>\n",
       "    </tr>\n",
       "    <tr>\n",
       "      <th>54</th>\n",
       "      <td>2022-05-03T02:00:00.000000000Z</td>\n",
       "      <td>0.76020</td>\n",
       "      <td>0.76090</td>\n",
       "      <td>0.76012</td>\n",
       "      <td>0.76070</td>\n",
       "      <td>0.758717</td>\n",
       "      <td>0.758653</td>\n",
       "      <td>0.000064</td>\n",
       "      <td>-0.000144</td>\n",
       "      <td>1</td>\n",
       "      <td>47.0</td>\n",
       "      <td>47.0</td>\n",
       "    </tr>\n",
       "    <tr>\n",
       "      <th>146</th>\n",
       "      <td>2022-05-08T22:00:00.000000000Z</td>\n",
       "      <td>0.76538</td>\n",
       "      <td>0.76611</td>\n",
       "      <td>0.76502</td>\n",
       "      <td>0.76540</td>\n",
       "      <td>0.766271</td>\n",
       "      <td>0.766467</td>\n",
       "      <td>-0.000196</td>\n",
       "      <td>0.000005</td>\n",
       "      <td>-1</td>\n",
       "      <td>26.4</td>\n",
       "      <td>-26.4</td>\n",
       "    </tr>\n",
       "    <tr>\n",
       "      <th>162</th>\n",
       "      <td>2022-05-09T14:00:00.000000000Z</td>\n",
       "      <td>0.76798</td>\n",
       "      <td>0.76857</td>\n",
       "      <td>0.76748</td>\n",
       "      <td>0.76804</td>\n",
       "      <td>0.766931</td>\n",
       "      <td>0.766887</td>\n",
       "      <td>0.000045</td>\n",
       "      <td>-0.000065</td>\n",
       "      <td>1</td>\n",
       "      <td>-27.9</td>\n",
       "      <td>-27.9</td>\n",
       "    </tr>\n",
       "    <tr>\n",
       "      <th>164</th>\n",
       "      <td>2022-05-09T16:00:00.000000000Z</td>\n",
       "      <td>0.76598</td>\n",
       "      <td>0.76609</td>\n",
       "      <td>0.76512</td>\n",
       "      <td>0.76525</td>\n",
       "      <td>0.766932</td>\n",
       "      <td>0.766934</td>\n",
       "      <td>-0.000002</td>\n",
       "      <td>0.000037</td>\n",
       "      <td>-1</td>\n",
       "      <td>2.2</td>\n",
       "      <td>-2.2</td>\n",
       "    </tr>\n",
       "  </tbody>\n",
       "</table>\n",
       "</div>"
      ],
      "text/plain": [
       "                               time    mid_o    mid_h    mid_l    mid_c  \\\n",
       "32   2022-05-02T04:00:00.000000000Z  0.75734  0.75778  0.75698  0.75774   \n",
       "54   2022-05-03T02:00:00.000000000Z  0.76020  0.76090  0.76012  0.76070   \n",
       "146  2022-05-08T22:00:00.000000000Z  0.76538  0.76611  0.76502  0.76540   \n",
       "162  2022-05-09T14:00:00.000000000Z  0.76798  0.76857  0.76748  0.76804   \n",
       "164  2022-05-09T16:00:00.000000000Z  0.76598  0.76609  0.76512  0.76525   \n",
       "\n",
       "        MA_16     MA_64      DIFF  DIFF_PREV  IS_TRADE  DELTA  GAIN  \n",
       "32   0.757949  0.757992 -0.000042   0.000422        -1   29.6 -29.6  \n",
       "54   0.758717  0.758653  0.000064  -0.000144         1   47.0  47.0  \n",
       "146  0.766271  0.766467 -0.000196   0.000005        -1   26.4 -26.4  \n",
       "162  0.766931  0.766887  0.000045  -0.000065         1  -27.9 -27.9  \n",
       "164  0.766932  0.766934 -0.000002   0.000037        -1    2.2  -2.2  "
      ]
     },
     "execution_count": 254,
     "metadata": {},
     "output_type": "execute_result"
    }
   ],
   "source": [
    "df_trades.head()"
   ]
  },
  {
   "cell_type": "code",
   "execution_count": 255,
   "id": "25ad4d98-8df5-40fe-a5d0-ba63f29b4294",
   "metadata": {},
   "outputs": [],
   "source": [
    "df_plot = df_ma.iloc[0:200].copy()"
   ]
  },
  {
   "cell_type": "code",
   "execution_count": 256,
   "id": "40454b41-ffc3-4aba-a556-149803d54ddd",
   "metadata": {},
   "outputs": [
    {
     "data": {
      "text/plain": [
       "(200, 10)"
      ]
     },
     "execution_count": 256,
     "metadata": {},
     "output_type": "execute_result"
    }
   ],
   "source": [
    "df_plot.shape"
   ]
  },
  {
   "cell_type": "code",
   "execution_count": 257,
   "id": "c982676a-7a87-40a2-80e4-d2170b5c6fe4",
   "metadata": {
    "tags": []
   },
   "outputs": [
    {
     "data": {
      "text/html": [
       "<iframe\n",
       "    scrolling=\"no\"\n",
       "    width=\"1020px\"\n",
       "    height=\"420\"\n",
       "    src=\"iframe_figures/figure_257.html\"\n",
       "    frameborder=\"0\"\n",
       "    allowfullscreen\n",
       "></iframe>\n"
      ]
     },
     "metadata": {},
     "output_type": "display_data"
    }
   ],
   "source": [
    "fig = go.Figure()\n",
    "fig.add_trace(go.Candlestick(\n",
    "    x= df_plot.time, \n",
    "    open= df_plot.mid_o, \n",
    "    high= df_plot.mid_h, \n",
    "    low= df_plot.mid_l, \n",
    "    close= df_plot.mid_c,\n",
    "    line=dict(width=1),\n",
    "    opacity=1,\n",
    "    increasing_fillcolor='#24A06B',\n",
    "    decreasing_fillcolor='#CC2E3C',\n",
    "    increasing_line_color='#2EC886',\n",
    "    decreasing_line_color='#FF3A4C')\n",
    ")\n",
    "for ma in ma_list:\n",
    "    col = f'MA_{ma}'\n",
    "    fig.add_trace(go.Scatter(\n",
    "        x=df_plot.time,\n",
    "        y=df_plot[col],\n",
    "        line=dict(width=2),\n",
    "        line_shape='spline',\n",
    "        name= col)\n",
    ")\n",
    "fig.update_layout(width=1000, \n",
    "                  height=400,\n",
    "                  paper_bgcolor='#1e1e1e',\n",
    "                  plot_bgcolor='#1e1e1e',\n",
    "                  margin=dict(l=10,r=10,b=10,t=10),\n",
    "                  font=dict(size=10,color='#e1e1e1')\n",
    ")\n",
    "fig.update_xaxes(\n",
    "    gridcolor='#1f292f',\n",
    "    showgrid=True,\n",
    "    fixedrange=True,\n",
    "    rangeslider=dict(visible=False)\n",
    ")\n",
    "fig.update_yaxes(\n",
    "    gridcolor='#1f292f',\n",
    "    showgrid=True,\n",
    ")\n",
    "fig.show()"
   ]
  },
  {
   "cell_type": "raw",
   "id": "0f8ec286-e395-4203-8165-1a7e86db3e08",
   "metadata": {},
   "source": []
  }
 ],
 "metadata": {
  "kernelspec": {
   "display_name": "forex",
   "language": "python",
   "name": "forex"
  },
  "language_info": {
   "codemirror_mode": {
    "name": "ipython",
    "version": 3
   },
   "file_extension": ".py",
   "mimetype": "text/x-python",
   "name": "python",
   "nbconvert_exporter": "python",
   "pygments_lexer": "ipython3",
   "version": "3.10.4"
  }
 },
 "nbformat": 4,
 "nbformat_minor": 5
}
