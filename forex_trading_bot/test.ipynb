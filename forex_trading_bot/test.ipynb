{
 "cells": [
  {
   "cell_type": "code",
   "execution_count": 6,
   "id": "ab18249b-f61d-42bc-9732-3ee8c170ae0e",
   "metadata": {},
   "outputs": [],
   "source": [
    "import requests\n",
    "import pandas as pd\n",
    "import defs"
   ]
  },
  {
   "cell_type": "code",
   "execution_count": 7,
   "id": "295967b2-43d1-4336-96b9-976e4494a8d2",
   "metadata": {},
   "outputs": [],
   "source": [
    "session = requests.Session()"
   ]
  },
  {
   "cell_type": "code",
   "execution_count": 8,
   "id": "5c58bb0d-78e1-41ee-8cd2-83aae77fb3d2",
   "metadata": {},
   "outputs": [],
   "source": [
    "instrument = 'EUR_USD'\n",
    "count = 10\n",
    "granularity = 'H1'"
   ]
  },
  {
   "cell_type": "code",
   "execution_count": 11,
   "id": "bb7cce3e-34db-49bd-8e37-f1c8bb4e6e98",
   "metadata": {},
   "outputs": [
    {
     "data": {
      "text/plain": [
       "'https://api-fxtrade.oanda.com/v3/instruments/EUR_USD/candles'"
      ]
     },
     "execution_count": 11,
     "metadata": {},
     "output_type": "execute_result"
    }
   ],
   "source": [
    "url = f\"{defs.OANDA_URL}/instruments/{instrument}/candles\"\n",
    "url"
   ]
  },
  {
   "cell_type": "code",
   "execution_count": 13,
   "id": "42e1defc-ae4a-41dd-984a-5dd493d171da",
   "metadata": {},
   "outputs": [
    {
     "data": {
      "text/plain": [
       "{'count': 10, 'granularity': 'H1', 'price': 'MBA'}"
      ]
     },
     "execution_count": 13,
     "metadata": {},
     "output_type": "execute_result"
    }
   ],
   "source": [
    "params = dict(\n",
    "    count = count,\n",
    "    granularity = granularity,\n",
    "    price = 'MBA'\n",
    ")\n",
    "params"
   ]
  },
  {
   "cell_type": "code",
   "execution_count": 16,
   "id": "dc4a2e1c-d2eb-44a4-b350-965a272a8319",
   "metadata": {},
   "outputs": [
    {
     "data": {
      "text/plain": [
       "200"
      ]
     },
     "execution_count": 16,
     "metadata": {},
     "output_type": "execute_result"
    }
   ],
   "source": [
    "response = session.get(url, params=params, headers=defs.SECURE_HEADER)\n",
    "response.status_code"
   ]
  },
  {
   "cell_type": "code",
   "execution_count": 21,
   "id": "31711642-a4c2-45d2-8c9c-49c1e22993cb",
   "metadata": {},
   "outputs": [],
   "source": [
    "data = response.json()"
   ]
  },
  {
   "cell_type": "code",
   "execution_count": 19,
   "id": "54ee3d72-6adf-49aa-b360-b42eda84571f",
   "metadata": {},
   "outputs": [
    {
     "data": {
      "text/plain": [
       "dict_keys(['instrument', 'granularity', 'candles'])"
      ]
     },
     "execution_count": 19,
     "metadata": {},
     "output_type": "execute_result"
    }
   ],
   "source": [
    "data.keys()"
   ]
  },
  {
   "cell_type": "code",
   "execution_count": 23,
   "id": "645b6ab3-8268-4440-bc83-5ddbf3148706",
   "metadata": {},
   "outputs": [
    {
     "data": {
      "text/plain": [
       "10"
      ]
     },
     "execution_count": 23,
     "metadata": {},
     "output_type": "execute_result"
    }
   ],
   "source": [
    "len(data['candles'])"
   ]
  },
  {
   "cell_type": "code",
   "execution_count": 25,
   "id": "06dfec96-9afe-46e6-8a67-db6bc26a5ef2",
   "metadata": {},
   "outputs": [],
   "source": [
    "#creating column names for candles dataframe\n",
    "prices = ['mid', 'bid', 'ask']\n",
    "ohlc = ['o', 'h', 'l', 'c']"
   ]
  },
  {
   "cell_type": "code",
   "execution_count": 27,
   "id": "cc2ce42d-5b88-4724-a0b1-f67119bf7a5a",
   "metadata": {},
   "outputs": [
    {
     "name": "stdout",
     "output_type": "stream",
     "text": [
      "mid_o\n",
      "mid_h\n",
      "mid_l\n",
      "mid_c\n",
      "bid_o\n",
      "bid_h\n",
      "bid_l\n",
      "bid_c\n",
      "ask_o\n",
      "ask_h\n",
      "ask_l\n",
      "ask_c\n"
     ]
    }
   ],
   "source": [
    "for price in prices:\n",
    "    for oh in ohlc:\n",
    "        print(f'{price}_{oh}')"
   ]
  },
  {
   "cell_type": "code",
   "execution_count": 28,
   "id": "bae26518-de8e-4e10-b120-3ede112c4923",
   "metadata": {},
   "outputs": [
    {
     "data": {
      "text/plain": [
       "{'complete': True,\n",
       " 'volume': 17120,\n",
       " 'time': '2022-12-13T15:00:00.000000000Z',\n",
       " 'bid': {'o': '1.06449', 'h': '1.06498', 'l': '1.06200', 'c': '1.06357'},\n",
       " 'mid': {'o': '1.06457', 'h': '1.06505', 'l': '1.06208', 'c': '1.06364'},\n",
       " 'ask': {'o': '1.06465', 'h': '1.06512', 'l': '1.06216', 'c': '1.06370'}}"
      ]
     },
     "execution_count": 28,
     "metadata": {},
     "output_type": "execute_result"
    }
   ],
   "source": [
    "data['candles'][0]"
   ]
  },
  {
   "cell_type": "code",
   "execution_count": 40,
   "id": "ceacde95-59e0-4422-8957-5b38d930465e",
   "metadata": {},
   "outputs": [
    {
     "name": "stdout",
     "output_type": "stream",
     "text": [
      "{'time': '2022-12-13T15:00:00.000000000Z', 'volume': 17120, 'mid_o': '1.06457', 'mid_h': '1.06505', 'mid_l': '1.06208', 'mid_c': '1.06364', 'bid_o': '1.06449', 'bid_h': '1.06498', 'bid_l': '1.06200', 'bid_c': '1.06357', 'ask_o': '1.06465', 'ask_h': '1.06512', 'ask_l': '1.06216', 'ask_c': '1.06370'}\n"
     ]
    }
   ],
   "source": [
    "candle_data = []\n",
    "for candle in data['candles']:\n",
    "    if candle['complete'] == False:\n",
    "              continue\n",
    "    new_dict = {}\n",
    "    new_dict['time'] = candle['time']\n",
    "    new_dict['volume'] = candle['volume']\n",
    "    for price in prices:\n",
    "        for oh in ohlc:\n",
    "            new_dict[f'{price}_{oh}'] = candle[price][oh]\n",
    "    candle_data.append(new_dict)\n",
    "print(candle_data[0])"
   ]
  },
  {
   "cell_type": "code",
   "execution_count": 41,
   "id": "db8c8da0-0b96-4d04-9a5c-174883254e21",
   "metadata": {},
   "outputs": [
    {
     "data": {
      "text/html": [
       "<div>\n",
       "<style scoped>\n",
       "    .dataframe tbody tr th:only-of-type {\n",
       "        vertical-align: middle;\n",
       "    }\n",
       "\n",
       "    .dataframe tbody tr th {\n",
       "        vertical-align: top;\n",
       "    }\n",
       "\n",
       "    .dataframe thead th {\n",
       "        text-align: right;\n",
       "    }\n",
       "</style>\n",
       "<table border=\"1\" class=\"dataframe\">\n",
       "  <thead>\n",
       "    <tr style=\"text-align: right;\">\n",
       "      <th></th>\n",
       "      <th>time</th>\n",
       "      <th>volume</th>\n",
       "      <th>mid_o</th>\n",
       "      <th>mid_h</th>\n",
       "      <th>mid_l</th>\n",
       "      <th>mid_c</th>\n",
       "      <th>bid_o</th>\n",
       "      <th>bid_h</th>\n",
       "      <th>bid_l</th>\n",
       "      <th>bid_c</th>\n",
       "      <th>ask_o</th>\n",
       "      <th>ask_h</th>\n",
       "      <th>ask_l</th>\n",
       "      <th>ask_c</th>\n",
       "    </tr>\n",
       "  </thead>\n",
       "  <tbody>\n",
       "    <tr>\n",
       "      <th>0</th>\n",
       "      <td>2022-12-13T15:00:00.000000000Z</td>\n",
       "      <td>17120</td>\n",
       "      <td>1.06457</td>\n",
       "      <td>1.06505</td>\n",
       "      <td>1.06208</td>\n",
       "      <td>1.06364</td>\n",
       "      <td>1.06449</td>\n",
       "      <td>1.06498</td>\n",
       "      <td>1.06200</td>\n",
       "      <td>1.06357</td>\n",
       "      <td>1.06465</td>\n",
       "      <td>1.06512</td>\n",
       "      <td>1.06216</td>\n",
       "      <td>1.06370</td>\n",
       "    </tr>\n",
       "    <tr>\n",
       "      <th>1</th>\n",
       "      <td>2022-12-13T16:00:00.000000000Z</td>\n",
       "      <td>11102</td>\n",
       "      <td>1.06368</td>\n",
       "      <td>1.06588</td>\n",
       "      <td>1.06248</td>\n",
       "      <td>1.06295</td>\n",
       "      <td>1.06362</td>\n",
       "      <td>1.06581</td>\n",
       "      <td>1.06240</td>\n",
       "      <td>1.06288</td>\n",
       "      <td>1.06375</td>\n",
       "      <td>1.06596</td>\n",
       "      <td>1.06254</td>\n",
       "      <td>1.06302</td>\n",
       "    </tr>\n",
       "    <tr>\n",
       "      <th>2</th>\n",
       "      <td>2022-12-13T17:00:00.000000000Z</td>\n",
       "      <td>10272</td>\n",
       "      <td>1.06294</td>\n",
       "      <td>1.06382</td>\n",
       "      <td>1.06108</td>\n",
       "      <td>1.06146</td>\n",
       "      <td>1.06288</td>\n",
       "      <td>1.06376</td>\n",
       "      <td>1.06102</td>\n",
       "      <td>1.06139</td>\n",
       "      <td>1.06301</td>\n",
       "      <td>1.06389</td>\n",
       "      <td>1.06115</td>\n",
       "      <td>1.06152</td>\n",
       "    </tr>\n",
       "    <tr>\n",
       "      <th>3</th>\n",
       "      <td>2022-12-13T18:00:00.000000000Z</td>\n",
       "      <td>7696</td>\n",
       "      <td>1.06146</td>\n",
       "      <td>1.06280</td>\n",
       "      <td>1.06104</td>\n",
       "      <td>1.06204</td>\n",
       "      <td>1.06140</td>\n",
       "      <td>1.06274</td>\n",
       "      <td>1.06097</td>\n",
       "      <td>1.06196</td>\n",
       "      <td>1.06153</td>\n",
       "      <td>1.06287</td>\n",
       "      <td>1.06111</td>\n",
       "      <td>1.06211</td>\n",
       "    </tr>\n",
       "    <tr>\n",
       "      <th>4</th>\n",
       "      <td>2022-12-13T19:00:00.000000000Z</td>\n",
       "      <td>5858</td>\n",
       "      <td>1.06205</td>\n",
       "      <td>1.06410</td>\n",
       "      <td>1.06181</td>\n",
       "      <td>1.06362</td>\n",
       "      <td>1.06197</td>\n",
       "      <td>1.06404</td>\n",
       "      <td>1.06174</td>\n",
       "      <td>1.06356</td>\n",
       "      <td>1.06213</td>\n",
       "      <td>1.06417</td>\n",
       "      <td>1.06188</td>\n",
       "      <td>1.06369</td>\n",
       "    </tr>\n",
       "    <tr>\n",
       "      <th>5</th>\n",
       "      <td>2022-12-13T20:00:00.000000000Z</td>\n",
       "      <td>5653</td>\n",
       "      <td>1.06362</td>\n",
       "      <td>1.06382</td>\n",
       "      <td>1.06255</td>\n",
       "      <td>1.06270</td>\n",
       "      <td>1.06355</td>\n",
       "      <td>1.06375</td>\n",
       "      <td>1.06248</td>\n",
       "      <td>1.06262</td>\n",
       "      <td>1.06370</td>\n",
       "      <td>1.06389</td>\n",
       "      <td>1.06262</td>\n",
       "      <td>1.06277</td>\n",
       "    </tr>\n",
       "    <tr>\n",
       "      <th>6</th>\n",
       "      <td>2022-12-13T21:00:00.000000000Z</td>\n",
       "      <td>1616</td>\n",
       "      <td>1.06272</td>\n",
       "      <td>1.06332</td>\n",
       "      <td>1.06272</td>\n",
       "      <td>1.06317</td>\n",
       "      <td>1.06264</td>\n",
       "      <td>1.06322</td>\n",
       "      <td>1.06264</td>\n",
       "      <td>1.06308</td>\n",
       "      <td>1.06279</td>\n",
       "      <td>1.06343</td>\n",
       "      <td>1.06279</td>\n",
       "      <td>1.06326</td>\n",
       "    </tr>\n",
       "    <tr>\n",
       "      <th>7</th>\n",
       "      <td>2022-12-13T22:00:00.000000000Z</td>\n",
       "      <td>2768</td>\n",
       "      <td>1.06322</td>\n",
       "      <td>1.06354</td>\n",
       "      <td>1.06300</td>\n",
       "      <td>1.06334</td>\n",
       "      <td>1.06308</td>\n",
       "      <td>1.06324</td>\n",
       "      <td>1.06257</td>\n",
       "      <td>1.06322</td>\n",
       "      <td>1.06336</td>\n",
       "      <td>1.06384</td>\n",
       "      <td>1.06323</td>\n",
       "      <td>1.06346</td>\n",
       "    </tr>\n",
       "    <tr>\n",
       "      <th>8</th>\n",
       "      <td>2022-12-13T23:00:00.000000000Z</td>\n",
       "      <td>2540</td>\n",
       "      <td>1.06334</td>\n",
       "      <td>1.06364</td>\n",
       "      <td>1.06210</td>\n",
       "      <td>1.06244</td>\n",
       "      <td>1.06322</td>\n",
       "      <td>1.06354</td>\n",
       "      <td>1.06201</td>\n",
       "      <td>1.06235</td>\n",
       "      <td>1.06345</td>\n",
       "      <td>1.06374</td>\n",
       "      <td>1.06218</td>\n",
       "      <td>1.06252</td>\n",
       "    </tr>\n",
       "  </tbody>\n",
       "</table>\n",
       "</div>"
      ],
      "text/plain": [
       "                             time  volume    mid_o    mid_h    mid_l    mid_c  \\\n",
       "0  2022-12-13T15:00:00.000000000Z   17120  1.06457  1.06505  1.06208  1.06364   \n",
       "1  2022-12-13T16:00:00.000000000Z   11102  1.06368  1.06588  1.06248  1.06295   \n",
       "2  2022-12-13T17:00:00.000000000Z   10272  1.06294  1.06382  1.06108  1.06146   \n",
       "3  2022-12-13T18:00:00.000000000Z    7696  1.06146  1.06280  1.06104  1.06204   \n",
       "4  2022-12-13T19:00:00.000000000Z    5858  1.06205  1.06410  1.06181  1.06362   \n",
       "5  2022-12-13T20:00:00.000000000Z    5653  1.06362  1.06382  1.06255  1.06270   \n",
       "6  2022-12-13T21:00:00.000000000Z    1616  1.06272  1.06332  1.06272  1.06317   \n",
       "7  2022-12-13T22:00:00.000000000Z    2768  1.06322  1.06354  1.06300  1.06334   \n",
       "8  2022-12-13T23:00:00.000000000Z    2540  1.06334  1.06364  1.06210  1.06244   \n",
       "\n",
       "     bid_o    bid_h    bid_l    bid_c    ask_o    ask_h    ask_l    ask_c  \n",
       "0  1.06449  1.06498  1.06200  1.06357  1.06465  1.06512  1.06216  1.06370  \n",
       "1  1.06362  1.06581  1.06240  1.06288  1.06375  1.06596  1.06254  1.06302  \n",
       "2  1.06288  1.06376  1.06102  1.06139  1.06301  1.06389  1.06115  1.06152  \n",
       "3  1.06140  1.06274  1.06097  1.06196  1.06153  1.06287  1.06111  1.06211  \n",
       "4  1.06197  1.06404  1.06174  1.06356  1.06213  1.06417  1.06188  1.06369  \n",
       "5  1.06355  1.06375  1.06248  1.06262  1.06370  1.06389  1.06262  1.06277  \n",
       "6  1.06264  1.06322  1.06264  1.06308  1.06279  1.06343  1.06279  1.06326  \n",
       "7  1.06308  1.06324  1.06257  1.06322  1.06336  1.06384  1.06323  1.06346  \n",
       "8  1.06322  1.06354  1.06201  1.06235  1.06345  1.06374  1.06218  1.06252  "
      ]
     },
     "execution_count": 41,
     "metadata": {},
     "output_type": "execute_result"
    }
   ],
   "source": [
    "candles_df = pd.DataFrame(our_data)\n",
    "candles_df"
   ]
  },
  {
   "cell_type": "code",
   "execution_count": 44,
   "id": "6161b51d-a6b3-492a-98b8-7f134bfc2909",
   "metadata": {},
   "outputs": [],
   "source": [
    "candles_df.to_pickle('EUR_USD_H1.pkl')"
   ]
  },
  {
   "cell_type": "code",
   "execution_count": null,
   "id": "f266fb6f-8904-4ad9-945a-336951b6c539",
   "metadata": {},
   "outputs": [],
   "source": []
  }
 ],
 "metadata": {
  "kernelspec": {
   "display_name": "forex",
   "language": "python",
   "name": "forex"
  },
  "language_info": {
   "codemirror_mode": {
    "name": "ipython",
    "version": 3
   },
   "file_extension": ".py",
   "mimetype": "text/x-python",
   "name": "python",
   "nbconvert_exporter": "python",
   "pygments_lexer": "ipython3",
   "version": "3.10.4"
  }
 },
 "nbformat": 4,
 "nbformat_minor": 5
}
