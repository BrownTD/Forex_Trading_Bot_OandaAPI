{
 "cells": [
  {
   "cell_type": "code",
   "execution_count": 48,
   "id": "ab18249b-f61d-42bc-9732-3ee8c170ae0e",
   "metadata": {},
   "outputs": [],
   "source": [
    "import requests\n",
    "import defs\n",
    "import pandas as pd"
   ]
  },
  {
   "cell_type": "code",
   "execution_count": 49,
   "id": "295967b2-43d1-4336-96b9-976e4494a8d2",
   "metadata": {},
   "outputs": [],
   "source": [
    "#creating session for requests to load server faster\n",
    "session = requests.Session()"
   ]
  },
  {
   "cell_type": "code",
   "execution_count": 50,
   "id": "ed6423ec-e6b3-4aff-84f6-385d7137fa83",
   "metadata": {},
   "outputs": [],
   "source": [
    "ins_df=pd.read_pickle('instruments.pkl')"
   ]
  },
  {
   "cell_type": "code",
   "execution_count": 51,
   "id": "dbfad96b-e926-4ed9-8156-eab514007c98",
   "metadata": {},
   "outputs": [],
   "source": [
    "trade_curr = ['EUR', 'USD', 'GBP', 'JPY', 'CHF', 'NZD', 'CAD']"
   ]
  },
  {
   "cell_type": "code",
   "execution_count": 52,
   "id": "070f0704-355b-4807-acd0-c7ba94a2a4da",
   "metadata": {},
   "outputs": [],
   "source": [
    "def fetch_candles(pair_name, count, granularity):\n",
    "    url = f\"{defs.OANDA_URL}/instruments/{pair_name}/candles\"\n",
    "    params = dict(\n",
    "        count = count,\n",
    "        granularity = granularity,\n",
    "        price = 'MBA'\n",
    "    )\n",
    "    response = session.get(url, params=params, headers=defs.SECURE_HEADER)\n",
    "    return response.status_code, response.json()"
   ]
  },
  {
   "cell_type": "code",
   "execution_count": 53,
   "id": "4082348e-edfc-4a3a-99fb-90e9601cc5ff",
   "metadata": {},
   "outputs": [],
   "source": [
    "def get_candles_df(json_response):\n",
    "    prices = ['mid', 'bid', 'ask']\n",
    "    ohlc = ['o', 'h', 'l', 'c']\n",
    "    \n",
    "    candle_data = []\n",
    "    for candle in json_response['candles']:\n",
    "        if candle['complete'] == False:\n",
    "              continue\n",
    "        new_dict = {}\n",
    "        new_dict['time'] = candle['time']\n",
    "        new_dict['volume'] = candle['volume']\n",
    "        for price in prices:\n",
    "            for oh in ohlc:\n",
    "                new_dict[f'{price}_{oh}'] = candle[price][oh]\n",
    "        candle_data.append(new_dict)\n",
    "    return pd.DataFrame.from_dict(candle_data)"
   ]
  },
  {
   "cell_type": "code",
   "execution_count": 54,
   "id": "4d707e8c-82d4-468d-9834-5d5bf1af27f4",
   "metadata": {},
   "outputs": [],
   "source": [
    "def save_file(candles_df, pair, granularity):\n",
    "    candles_df.to_pickle(f'his_data/{pair}_{granularity}.pkl')"
   ]
  },
  {
   "cell_type": "code",
   "execution_count": 55,
   "id": "b0de11c3-45f5-4da1-848d-4e3e40d9d206",
   "metadata": {},
   "outputs": [],
   "source": [
    "def create_data(pair, granularity):\n",
    "    code, json_data = fetch_candles(pair, 4000, granularity)\n",
    "    if code != 200:\n",
    "        print(pair,'Error')\n",
    "        return\n",
    "    df = get_candles_df(json_data)\n",
    "    print(f'{pair} loaded {df.shape[0]} candles from {df.time.min()} to {df.time.max()}')\n",
    "    save_file(df,pair,granularity)"
   ]
  },
  {
   "cell_type": "code",
   "execution_count": 56,
   "id": "da252ee9-ed18-4e75-a7af-46b039947090",
   "metadata": {
    "collapsed": true,
    "jupyter": {
     "outputs_hidden": true
    },
    "tags": []
   },
   "outputs": [
    {
     "name": "stdout",
     "output_type": "stream",
     "text": [
      "EUR_USD loaded 3999 candles from 2022-04-26T05:00:00.000000000Z to 2022-12-14T20:00:00.000000000Z\n",
      "EUR_GBP loaded 3999 candles from 2022-04-26T05:00:00.000000000Z to 2022-12-14T20:00:00.000000000Z\n",
      "EUR_JPY loaded 3999 candles from 2022-04-26T05:00:00.000000000Z to 2022-12-14T20:00:00.000000000Z\n",
      "EUR_CHF loaded 3999 candles from 2022-04-26T05:00:00.000000000Z to 2022-12-14T20:00:00.000000000Z\n",
      "EUR_NZD loaded 3999 candles from 2022-04-26T05:00:00.000000000Z to 2022-12-14T20:00:00.000000000Z\n",
      "EUR_CAD loaded 3999 candles from 2022-04-26T05:00:00.000000000Z to 2022-12-14T20:00:00.000000000Z\n",
      "USD_JPY loaded 3999 candles from 2022-04-26T05:00:00.000000000Z to 2022-12-14T20:00:00.000000000Z\n",
      "USD_CHF loaded 3999 candles from 2022-04-26T05:00:00.000000000Z to 2022-12-14T20:00:00.000000000Z\n",
      "USD_CAD loaded 3999 candles from 2022-04-26T05:00:00.000000000Z to 2022-12-14T20:00:00.000000000Z\n",
      "GBP_USD loaded 3999 candles from 2022-04-26T05:00:00.000000000Z to 2022-12-14T20:00:00.000000000Z\n",
      "GBP_JPY loaded 3999 candles from 2022-04-26T05:00:00.000000000Z to 2022-12-14T20:00:00.000000000Z\n",
      "GBP_CHF loaded 3999 candles from 2022-04-26T05:00:00.000000000Z to 2022-12-14T20:00:00.000000000Z\n",
      "GBP_NZD loaded 3999 candles from 2022-04-26T05:00:00.000000000Z to 2022-12-14T20:00:00.000000000Z\n",
      "GBP_CAD loaded 3999 candles from 2022-04-26T05:00:00.000000000Z to 2022-12-14T20:00:00.000000000Z\n",
      "CHF_JPY loaded 3999 candles from 2022-04-26T05:00:00.000000000Z to 2022-12-14T20:00:00.000000000Z\n",
      "NZD_USD loaded 3999 candles from 2022-04-26T05:00:00.000000000Z to 2022-12-14T20:00:00.000000000Z\n",
      "NZD_JPY loaded 3999 candles from 2022-04-26T05:00:00.000000000Z to 2022-12-14T20:00:00.000000000Z\n",
      "NZD_CHF loaded 3999 candles from 2022-04-26T05:00:00.000000000Z to 2022-12-14T20:00:00.000000000Z\n",
      "NZD_CAD loaded 3999 candles from 2022-04-26T05:00:00.000000000Z to 2022-12-14T20:00:00.000000000Z\n",
      "CAD_JPY loaded 3999 candles from 2022-04-26T05:00:00.000000000Z to 2022-12-14T20:00:00.000000000Z\n",
      "CAD_CHF loaded 3999 candles from 2022-04-26T05:00:00.000000000Z to 2022-12-14T20:00:00.000000000Z\n"
     ]
    }
   ],
   "source": [
    "for p1 in trade_curr:\n",
    "    for p2 in trade_curr:\n",
    "        pair = f'{p1}_{p2}'\n",
    "        if pair in ins_df.name.unique():\n",
    "            create_data(pair,'H1')"
   ]
  },
  {
   "cell_type": "code",
   "execution_count": null,
   "id": "9c778c9f-732a-4463-986c-be0051bc6df5",
   "metadata": {},
   "outputs": [],
   "source": []
  }
 ],
 "metadata": {
  "kernelspec": {
   "display_name": "forex",
   "language": "python",
   "name": "forex"
  },
  "language_info": {
   "codemirror_mode": {
    "name": "ipython",
    "version": 3
   },
   "file_extension": ".py",
   "mimetype": "text/x-python",
   "name": "python",
   "nbconvert_exporter": "python",
   "pygments_lexer": "ipython3",
   "version": "3.10.4"
  }
 },
 "nbformat": 4,
 "nbformat_minor": 5
}
